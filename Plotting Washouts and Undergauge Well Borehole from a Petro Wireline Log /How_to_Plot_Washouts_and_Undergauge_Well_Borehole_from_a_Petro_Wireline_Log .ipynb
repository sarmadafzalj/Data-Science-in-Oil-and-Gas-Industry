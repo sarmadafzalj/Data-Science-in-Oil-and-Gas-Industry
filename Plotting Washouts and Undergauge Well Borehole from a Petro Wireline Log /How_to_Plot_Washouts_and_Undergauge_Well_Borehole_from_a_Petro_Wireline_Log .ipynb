{
 "cells": [
  {
   "cell_type": "markdown",
   "metadata": {},
   "source": [
    "### How to Plot Washouts and Undergauge Well Borehole from a Petro Wireline Log \n",
    "\n",
    "#### Motivation:\n",
    "In a borehole, the diameter often deviates from the intended size created by the drilling bit. This is due to the presence of loose formations that erode, altering the well's shape at various depths, a phenomenon known as washout. Additionally, certain formations, like shale, can swell, resulting in an undergauge well profile in these areas.\n",
    "\n",
    "In a standard wireline log, the difference between planned bitsize and actual well hole profile is highlight with different colors. This is very important to know what is the actual diamater against depth for several reasons:\n",
    "- Log quality\n",
    "- Planning next run conveyance method\n",
    "- Cementing job\n",
    "- Casing job\n",
    "- Formation production quality"
   ]
  },
  {
   "cell_type": "code",
   "execution_count": 17,
   "metadata": {},
   "outputs": [],
   "source": [
    "#importing necessary libraries\n",
    "import pandas as pd\n",
    "import numpy as np\n",
    "import matplotlib.pyplot as plt\n"
   ]
  },
  {
   "cell_type": "markdown",
   "metadata": {},
   "source": [
    "Loading the dataset in to dataframe"
   ]
  },
  {
   "cell_type": "code",
   "execution_count": 18,
   "metadata": {},
   "outputs": [
    {
     "data": {
      "text/html": [
       "<div>\n",
       "<style scoped>\n",
       "    .dataframe tbody tr th:only-of-type {\n",
       "        vertical-align: middle;\n",
       "    }\n",
       "\n",
       "    .dataframe tbody tr th {\n",
       "        vertical-align: top;\n",
       "    }\n",
       "\n",
       "    .dataframe thead th {\n",
       "        text-align: right;\n",
       "    }\n",
       "</style>\n",
       "<table border=\"1\" class=\"dataframe\">\n",
       "  <thead>\n",
       "    <tr style=\"text-align: right;\">\n",
       "      <th></th>\n",
       "      <th>DEPT</th>\n",
       "      <th>CALI</th>\n",
       "      <th>SGR</th>\n",
       "      <th>CGR</th>\n",
       "      <th>THOR</th>\n",
       "      <th>URAN</th>\n",
       "      <th>POTA</th>\n",
       "      <th>ILD</th>\n",
       "      <th>ILM</th>\n",
       "      <th>SFLU</th>\n",
       "      <th>PEF</th>\n",
       "      <th>NPHI</th>\n",
       "      <th>RHOB</th>\n",
       "    </tr>\n",
       "  </thead>\n",
       "  <tbody>\n",
       "    <tr>\n",
       "      <th>0</th>\n",
       "      <td>50.5</td>\n",
       "      <td>5.902</td>\n",
       "      <td>145.146</td>\n",
       "      <td>24.131</td>\n",
       "      <td>2.477</td>\n",
       "      <td>13.727</td>\n",
       "      <td>0.701</td>\n",
       "      <td>18.533</td>\n",
       "      <td>17.162</td>\n",
       "      <td>2000.000</td>\n",
       "      <td>3.938</td>\n",
       "      <td>0.098</td>\n",
       "      <td>2.120</td>\n",
       "    </tr>\n",
       "    <tr>\n",
       "      <th>1</th>\n",
       "      <td>51.0</td>\n",
       "      <td>5.895</td>\n",
       "      <td>150.785</td>\n",
       "      <td>28.006</td>\n",
       "      <td>2.884</td>\n",
       "      <td>13.927</td>\n",
       "      <td>0.811</td>\n",
       "      <td>19.029</td>\n",
       "      <td>19.305</td>\n",
       "      <td>1955.824</td>\n",
       "      <td>3.924</td>\n",
       "      <td>0.049</td>\n",
       "      <td>2.100</td>\n",
       "    </tr>\n",
       "    <tr>\n",
       "      <th>2</th>\n",
       "      <td>51.5</td>\n",
       "      <td>5.895</td>\n",
       "      <td>155.732</td>\n",
       "      <td>31.508</td>\n",
       "      <td>3.259</td>\n",
       "      <td>14.091</td>\n",
       "      <td>0.909</td>\n",
       "      <td>18.660</td>\n",
       "      <td>20.851</td>\n",
       "      <td>1955.826</td>\n",
       "      <td>3.861</td>\n",
       "      <td>0.049</td>\n",
       "      <td>2.084</td>\n",
       "    </tr>\n",
       "    <tr>\n",
       "      <th>3</th>\n",
       "      <td>52.0</td>\n",
       "      <td>5.895</td>\n",
       "      <td>154.033</td>\n",
       "      <td>30.359</td>\n",
       "      <td>3.149</td>\n",
       "      <td>14.028</td>\n",
       "      <td>0.874</td>\n",
       "      <td>17.425</td>\n",
       "      <td>21.394</td>\n",
       "      <td>1955.826</td>\n",
       "      <td>3.629</td>\n",
       "      <td>0.244</td>\n",
       "      <td>2.074</td>\n",
       "    </tr>\n",
       "    <tr>\n",
       "      <th>4</th>\n",
       "      <td>52.5</td>\n",
       "      <td>5.895</td>\n",
       "      <td>169.844</td>\n",
       "      <td>40.371</td>\n",
       "      <td>4.755</td>\n",
       "      <td>14.686</td>\n",
       "      <td>1.022</td>\n",
       "      <td>16.477</td>\n",
       "      <td>20.181</td>\n",
       "      <td>2000.001</td>\n",
       "      <td>3.658</td>\n",
       "      <td>3.467</td>\n",
       "      <td>2.064</td>\n",
       "    </tr>\n",
       "  </tbody>\n",
       "</table>\n",
       "</div>"
      ],
      "text/plain": [
       "   DEPT   CALI      SGR     CGR   THOR    URAN   POTA     ILD     ILM  \\\n",
       "0  50.5  5.902  145.146  24.131  2.477  13.727  0.701  18.533  17.162   \n",
       "1  51.0  5.895  150.785  28.006  2.884  13.927  0.811  19.029  19.305   \n",
       "2  51.5  5.895  155.732  31.508  3.259  14.091  0.909  18.660  20.851   \n",
       "3  52.0  5.895  154.033  30.359  3.149  14.028  0.874  17.425  21.394   \n",
       "4  52.5  5.895  169.844  40.371  4.755  14.686  1.022  16.477  20.181   \n",
       "\n",
       "       SFLU    PEF   NPHI   RHOB  \n",
       "0  2000.000  3.938  0.098  2.120  \n",
       "1  1955.824  3.924  0.049  2.100  \n",
       "2  1955.826  3.861  0.049  2.084  \n",
       "3  1955.826  3.629  0.244  2.074  \n",
       "4  2000.001  3.658  3.467  2.064  "
      ]
     },
     "execution_count": 18,
     "metadata": {},
     "output_type": "execute_result"
    }
   ],
   "source": [
    "df = pd.read_csv('../data/welldata.csv')\n",
    "df.head()"
   ]
  },
  {
   "cell_type": "markdown",
   "metadata": {},
   "source": [
    "Exploring data to see data quality if there are any nulls and what are the data types"
   ]
  },
  {
   "cell_type": "code",
   "execution_count": 19,
   "metadata": {},
   "outputs": [
    {
     "name": "stdout",
     "output_type": "stream",
     "text": [
      "<class 'pandas.core.frame.DataFrame'>\n",
      "RangeIndex: 840 entries, 0 to 839\n",
      "Data columns (total 13 columns):\n",
      " #   Column  Non-Null Count  Dtype  \n",
      "---  ------  --------------  -----  \n",
      " 0   DEPT    840 non-null    float64\n",
      " 1   CALI    840 non-null    float64\n",
      " 2   SGR     840 non-null    float64\n",
      " 3   CGR     840 non-null    float64\n",
      " 4   THOR    840 non-null    float64\n",
      " 5   URAN    840 non-null    float64\n",
      " 6   POTA    840 non-null    float64\n",
      " 7   ILD     840 non-null    float64\n",
      " 8   ILM     840 non-null    float64\n",
      " 9   SFLU    840 non-null    float64\n",
      " 10  PEF     840 non-null    float64\n",
      " 11  NPHI    840 non-null    float64\n",
      " 12  RHOB    840 non-null    float64\n",
      "dtypes: float64(13)\n",
      "memory usage: 85.4 KB\n"
     ]
    }
   ],
   "source": [
    "df.info()"
   ]
  },
  {
   "cell_type": "markdown",
   "metadata": {},
   "source": [
    "Bitsize in this section is 6in"
   ]
  },
  {
   "cell_type": "code",
   "execution_count": 20,
   "metadata": {},
   "outputs": [],
   "source": [
    "#creating a new column named bitsize\n",
    "df['bitsize'] = 6"
   ]
  },
  {
   "cell_type": "markdown",
   "metadata": {},
   "source": [
    "Plotting the figure using matplotlib"
   ]
  },
  {
   "cell_type": "code",
   "execution_count": 21,
   "metadata": {},
   "outputs": [
    {
     "data": {
      "image/png": "[encoded data removed]",
      "text/plain": [
       "<Figure size 200x500 with 1 Axes>"
      ]
     },
     "metadata": {},
     "output_type": "display_data"
    }
   ],
   "source": [
    "#first of all we get a figure object, which is like our canvas to paint on\n",
    "fig = plt.figure(figsize=(2, 5)) #\n",
    "plt.plot(df.CALI, df.DEPT) #1: first plot\n",
    "plt.gca().invert_yaxis() # 2: invert\n",
    "\n",
    "#move x axis on top\n",
    "plt.gca().xaxis.set_ticks_position('top')\n",
    "plt.gca().xaxis.set_label_position('top')\n",
    "\n",
    "#grid\n",
    "plt.grid(axis='x', linestyle='--', linewidth=0.5, color='black', alpha=0.2)\n",
    "plt.grid(axis='y', linestyle='--', linewidth=0.5, color='black', alpha=0.7)\n",
    "\n",
    "#titles\n",
    "plt.title('Well borehole profile')\n",
    "plt.xlabel('Caliper (inches)')\n",
    "plt.ylabel('DEDPTH (m)') \n",
    "\n",
    "#ticks\n",
    "plt.xticks(np.arange(4, 14, 1))\n",
    "plt.yticks(np.arange(0, 500, 50))\n",
    "\n",
    "#add reference bitsize verticle line\n",
    "plt.axvline(x=6, color='Red', linestyle='--', linewidth=1)\n",
    "\n",
    "# fill  between\n",
    "plt.fill_betweenx(df.DEPT, df.CALI, df.bitsize, where=(df.CALI > df.bitsize), color='Yellow', alpha=0.8)\n",
    "plt.fill_betweenx(df.DEPT, df.CALI, df.bitsize, where=(df.CALI < df.bitsize), color='gray', alpha=0.4)\n",
    "\n",
    "\n",
    "plt.show()"
   ]
  }
 ],
 "metadata": {
  "kernelspec": {
   "display_name": "base",
   "language": "python",
   "name": "python3"
  },
  "language_info": {
   "codemirror_mode": {
    "name": "ipython",
    "version": 3
   },
   "file_extension": ".py",
   "mimetype": "text/x-python",
   "name": "python",
   "nbconvert_exporter": "python",
   "pygments_lexer": "ipython3",
   "version": "3.11.5"
  }
 },
 "nbformat": 4,
 "nbformat_minor": 2
}
